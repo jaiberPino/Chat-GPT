{
  "nbformat": 4,
  "nbformat_minor": 0,
  "metadata": {
    "colab": {
      "provenance": []
    },
    "kernelspec": {
      "name": "python3",
      "display_name": "Python 3"
    },
    "language_info": {
      "name": "python"
    }
  },
  "cells": [
    {
      "cell_type": "code",
      "source": [
        "!pip install openai"
      ],
      "metadata": {
        "colab": {
          "base_uri": "https://localhost:8080/"
        },
        "id": "rcTz8a_O2lBL",
        "outputId": "c6526069-ad72-41d7-d123-f14d4ac23b0a"
      },
      "execution_count": 1,
      "outputs": [
        {
          "output_type": "stream",
          "name": "stdout",
          "text": [
            "Collecting openai\n",
            "  Downloading openai-0.28.1-py3-none-any.whl (76 kB)\n",
            "\u001b[?25l     \u001b[90m━━━━━━━━━━━━━━━━━━━━━━━━━━━━━━━━━━━━━━━━\u001b[0m \u001b[32m0.0/77.0 kB\u001b[0m \u001b[31m?\u001b[0m eta \u001b[36m-:--:--\u001b[0m\r\u001b[2K     \u001b[90m━━━━━━━━━━━━━━━━━━━━━━━━━━━━━━━━━━━━━━━━\u001b[0m \u001b[32m77.0/77.0 kB\u001b[0m \u001b[31m2.1 MB/s\u001b[0m eta \u001b[36m0:00:00\u001b[0m\n",
            "\u001b[?25hRequirement already satisfied: requests>=2.20 in /usr/local/lib/python3.10/dist-packages (from openai) (2.31.0)\n",
            "Requirement already satisfied: tqdm in /usr/local/lib/python3.10/dist-packages (from openai) (4.66.1)\n",
            "Requirement already satisfied: aiohttp in /usr/local/lib/python3.10/dist-packages (from openai) (3.8.6)\n",
            "Requirement already satisfied: charset-normalizer<4,>=2 in /usr/local/lib/python3.10/dist-packages (from requests>=2.20->openai) (3.3.0)\n",
            "Requirement already satisfied: idna<4,>=2.5 in /usr/local/lib/python3.10/dist-packages (from requests>=2.20->openai) (3.4)\n",
            "Requirement already satisfied: urllib3<3,>=1.21.1 in /usr/local/lib/python3.10/dist-packages (from requests>=2.20->openai) (2.0.6)\n",
            "Requirement already satisfied: certifi>=2017.4.17 in /usr/local/lib/python3.10/dist-packages (from requests>=2.20->openai) (2023.7.22)\n",
            "Requirement already satisfied: attrs>=17.3.0 in /usr/local/lib/python3.10/dist-packages (from aiohttp->openai) (23.1.0)\n",
            "Requirement already satisfied: multidict<7.0,>=4.5 in /usr/local/lib/python3.10/dist-packages (from aiohttp->openai) (6.0.4)\n",
            "Requirement already satisfied: async-timeout<5.0,>=4.0.0a3 in /usr/local/lib/python3.10/dist-packages (from aiohttp->openai) (4.0.3)\n",
            "Requirement already satisfied: yarl<2.0,>=1.0 in /usr/local/lib/python3.10/dist-packages (from aiohttp->openai) (1.9.2)\n",
            "Requirement already satisfied: frozenlist>=1.1.1 in /usr/local/lib/python3.10/dist-packages (from aiohttp->openai) (1.4.0)\n",
            "Requirement already satisfied: aiosignal>=1.1.2 in /usr/local/lib/python3.10/dist-packages (from aiohttp->openai) (1.3.1)\n",
            "Installing collected packages: openai\n",
            "Successfully installed openai-0.28.1\n"
          ]
        }
      ]
    },
    {
      "cell_type": "code",
      "execution_count": 3,
      "metadata": {
        "id": "gJXE5bleOmZm"
      },
      "outputs": [],
      "source": [
        "import json\n",
        "#from util_auth import credentials #trae las credenciales\n",
        "\"\"\"\n",
        "#CON OPEN AI\n",
        "def process_ocr_response(text, system):\n",
        "    import openai\n",
        "    openai.organization = 'org-O'\n",
        "    openai.api_key = 'sk-XOhJ8'\n",
        "\n",
        "    messages = [\n",
        "    #{\"role\": \"system\", \"content\": \"Extract key information from the input text of an authorization letter. Response the key information and the document type using json format.\"},\n",
        "    #{\"role\": \"system\", \"content\": \"Extract key information from the input text of an withdrawal of several pay. Response the key information in english and the document type using dict python\"},\n",
        "    {\"role\": \"system\", \"content\": \"{}\".format(system)},\n",
        "    #{\"role\": \"user\", \"content\": \"cincocco.com.co NB : ( San Francisco PBX : 212059497 Cole 25 No 3440 uvole de Coco EL SUSCRITO DIRECTOR DE GESTIÓN HUMANA HACE CONSTAR Que el señor ( a ) DAZA RENGIFO PAOLA ANDREA identificado con cédula de ciudadanía No 38.561.419 laboró en esta Institución desde el 13 de enero de 2014 al 17 de enero de 2022 desempeñando el cargo de TERAPEUTA , con una asignación salarial de $ 2.100.000 pesos mensuales con un contrato a término fijo . Mativo de retiro : Retiro Voluntaro Francisco s La presente constancia se expide a solicitud de la persona interesada , a los diecisiete ( 17 ) dias del mes de enero del dos mil veintidós ( 2022 ) . LUIS CARLOS MESIA BRICEÑO Director de Gestión Humana www.clinicasanfrancisco.com.co S.A. 80091516-1 Solicitud C17 +57 ( 212864781 Fax +57 ( 212245621\"}\n",
        "    {\"role\": \"user\", \"content\": \"{}\".format(text)},\n",
        "    ]\n",
        "\n",
        "    response=openai.ChatCompletion.create(model=\"gpt-3.5-turbo\", messages=messages, temperature=0)\n",
        "    print(\"RESPONSE CHAT GPT: \", response)\n",
        "    return response\n",
        "\"\"\"\n",
        "#CON AZURE\n",
        "def process_ocr_response(text, system):\n",
        "    import openai\n",
        "    def gpt_response(key, base, deploy_name, tex, system):\n",
        "        num_char = len(tex)\n",
        "        text=tex.replace('\"',' ')\n",
        "        print(\"cantidad de letras\",len(text))\n",
        "        call_api = (num_char//11000)+1\n",
        "        openai.api_base = base\n",
        "        openai.api_version = \"2023-05-15\"\n",
        "        openai.api_key = key\n",
        "\n",
        "        if num_char <= 11000:\n",
        "            messages = [\n",
        "            #{\"role\": \"system\", \"content\": \"Extract key information from the input text of an authorization letter. Response the key information and the document type using json format.\"},\n",
        "            #{\"role\": \"system\", \"content\": \"Extract key information from the input text of an withdrawal of several pay. Response the key information in english and the document type using dict python\"},\n",
        "            {\"role\": \"system\", \"content\": \"{}\".format(system)},\n",
        "            #{\"role\": \"user\", \"content\": \"cincocco.com.co NB : ( San Francisco PBX : 212059497 Cole 25 No 3440 uvole de Coco EL SUSCRITO DIRECTOR DE GESTIÓN HUMANA HACE CONSTAR Que el señor ( a ) DAZA RENGIFO PAOLA ANDREA identificado con cédula de ciudadanía No 38.561.419 laboró en esta Institución desde el 13 de enero de 2014 al 17 de enero de 2022 desempeñando el cargo de TERAPEUTA , con una asignación salarial de $ 2.100.000 pesos mensuales con un contrato a término fijo . Mativo de retiro : Retiro Voluntaro Francisco s La presente constancia se expide a solicitud de la persona interesada , a los diecisiete ( 17 ) dias del mes de enero del dos mil veintidós ( 2022 ) . LUIS CARLOS MESIA BRICEÑO Director de Gestión Humana www.clinicasanfrancisco.com.co S.A. 80091516-1 Solicitud C17 +57 ( 212864781 Fax +57 ( 212245621\"}\n",
        "            {\"role\": \"user\", \"content\": \"{}\".format(text)},\n",
        "            ]\n",
        "\n",
        "            response = openai.ChatCompletion.create(engine = deploy_name, messages=messages, temperature=0)\n",
        "        else:\n",
        "            m = 0\n",
        "            n = 11000\n",
        "            responses = []\n",
        "            for i in range (0,call_api,1):\n",
        "                if call_api-1 == i:\n",
        "                    text1 = text[m:]\n",
        "                    messages = [\n",
        "                    #{\"role\": \"system\", \"content\": \"Extract key information from the input text of an authorization letter. Response the key information and the document type using json format.\"},\n",
        "                    #{\"role\": \"system\", \"content\": \"Extract key information from the input text of an withdrawal of several pay. Response the key information in english and the document type using dict python\"},\n",
        "                    {\"role\": \"system\", \"content\": \"{}\".format(system)},\n",
        "                    #{\"role\": \"user\", \"content\": \"cincocco.com.co NB : ( San Francisco PBX : 212059497 Cole 25 No 3440 uvole de Coco EL SUSCRITO DIRECTOR DE GESTIÓN HUMANA HACE CONSTAR Que el señor ( a ) DAZA RENGIFO PAOLA ANDREA identificado con cédula de ciudadanía No 38.561.419 laboró en esta Institución desde el 13 de enero de 2014 al 17 de enero de 2022 desempeñando el cargo de TERAPEUTA , con una asignación salarial de $ 2.100.000 pesos mensuales con un contrato a término fijo . Mativo de retiro : Retiro Voluntaro Francisco s La presente constancia se expide a solicitud de la persona interesada , a los diecisiete ( 17 ) dias del mes de enero del dos mil veintidós ( 2022 ) . LUIS CARLOS MESIA BRICEÑO Director de Gestión Humana www.clinicasanfrancisco.com.co S.A. 80091516-1 Solicitud C17 +57 ( 212864781 Fax +57 ( 212245621\"}\n",
        "                    {\"role\": \"user\", \"content\": \"{}\".format(text1)},\n",
        "                    ]\n",
        "                    response=openai.ChatCompletion.create(engine = deploy_name, messages=messages, temperature=0)\n",
        "                    if type(responses[0]) == dict:\n",
        "                        for respon in responses:\n",
        "                            response['choices'][0]['message']['content'].update(respon)\n",
        "                    elif type(responses[0]) == str or type(responses[0]) == list:\n",
        "                        for respon in responses:\n",
        "                            response['choices'][0]['message']['content'] = response['choices'][0]['message']['content'] + respon\n",
        "                else:\n",
        "                    text1 = text[m:n]\n",
        "                    messages = [\n",
        "                    #{\"role\": \"system\", \"content\": \"Extract key information from the input text of an authorization letter. Response the key information and the document type using json format.\"},\n",
        "                    #{\"role\": \"system\", \"content\": \"Extract key information from the input text of an withdrawal of several pay. Response the key information in english and the document type using dict python\"},\n",
        "                    {\"role\": \"system\", \"content\": \"{}\".format(system)},\n",
        "                    #{\"role\": \"user\", \"content\": \"cincocco.com.co NB : ( San Francisco PBX : 212059497 Cole 25 No 3440 uvole de Coco EL SUSCRITO DIRECTOR DE GESTIÓN HUMANA HACE CONSTAR Que el señor ( a ) DAZA RENGIFO PAOLA ANDREA identificado con cédula de ciudadanía No 38.561.419 laboró en esta Institución desde el 13 de enero de 2014 al 17 de enero de 2022 desempeñando el cargo de TERAPEUTA , con una asignación salarial de $ 2.100.000 pesos mensuales con un contrato a término fijo . Mativo de retiro : Retiro Voluntaro Francisco s La presente constancia se expide a solicitud de la persona interesada , a los diecisiete ( 17 ) dias del mes de enero del dos mil veintidós ( 2022 ) . LUIS CARLOS MESIA BRICEÑO Director de Gestión Humana www.clinicasanfrancisco.com.co S.A. 80091516-1 Solicitud C17 +57 ( 212864781 Fax +57 ( 212245621\"}\n",
        "                    {\"role\": \"user\", \"content\": \"{}\".format(text1)},\n",
        "                    ]\n",
        "                    response=openai.ChatCompletion.create(engine = deploy_name, messages=messages, temperature=0)['choices'][0]['message']['content']\n",
        "                    responses.append(response)\n",
        "                m = m + 11000\n",
        "                n = n + 11000\n",
        "        print(\"RESPONSE FINAL CHAT GPT: \", response)\n",
        "        return response\n",
        "    #%%%%% MAIN %%%\n",
        "    openai.api_type = \"azure\"\n",
        "    try:\n",
        "        key, end_point, deploy_name_model = \"5be*********86ae\", \"https://openai-dincro.openai.azure.com/\", \"GPT35-TESTS\"#credentials(0)\n",
        "        response = gpt_response(key, end_point, deploy_name_model, text, system)\n",
        "        return response\n",
        "    except Exception as e:\n",
        "        f\"Reintenta CHAT-GPT step_state=annotate, Reintenta Google exc={e}\"\n",
        "        key, end_point, deploy_name_model = \"e4***************a5\", \"https://dincro-rerty.openai.azure.com/\", \"gpt-35-uk\"#credentials(1)\n",
        "        response = gpt_response(key, end_point, deploy_name_model, text, system)\n",
        "        return response"
      ]
    },
    {
      "cell_type": "code",
      "source": [
        "text = \"los 3 jovenes andres, ricardo y manuel vivian en una casa grande con su madre, despues de un tiempo se fueron a vivir solos\"\n",
        "system = \"extraer la informacion clave del texto\"\n",
        "res = process_ocr_response(text, system)"
      ],
      "metadata": {
        "colab": {
          "base_uri": "https://localhost:8080/"
        },
        "id": "O3eeSo78PCM4",
        "outputId": "ad5ec628-d14a-43e1-862f-d984db511102"
      },
      "execution_count": 7,
      "outputs": [
        {
          "output_type": "stream",
          "name": "stdout",
          "text": [
            "cantidad de letras 123\n",
            "RESPONSE FINAL CHAT GPT:  {\n",
            "  \"id\": \"chatcmpl-89JgtIKrSpeLKrXnOxCwe6hzEEljA\",\n",
            "  \"object\": \"chat.completion\",\n",
            "  \"created\": 1697231335,\n",
            "  \"model\": \"gpt-35-turbo\",\n",
            "  \"choices\": [\n",
            "    {\n",
            "      \"index\": 0,\n",
            "      \"finish_reason\": \"stop\",\n",
            "      \"message\": {\n",
            "        \"role\": \"assistant\",\n",
            "        \"content\": \"Informaci\\u00f3n clave:\\n- Hay tres j\\u00f3venes llamados Andr\\u00e9s, Ricardo y Manuel.\\n- Viv\\u00edan en una casa grande con su madre.\\n- Despu\\u00e9s de un tiempo, se fueron a vivir solos.\"\n",
            "      }\n",
            "    }\n",
            "  ],\n",
            "  \"usage\": {\n",
            "    \"prompt_tokens\": 56,\n",
            "    \"completion_tokens\": 44,\n",
            "    \"total_tokens\": 100\n",
            "  }\n",
            "}\n"
          ]
        }
      ]
    }
  ]
}